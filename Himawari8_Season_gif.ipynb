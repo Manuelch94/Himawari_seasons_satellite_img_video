{
 "cells": [
  {
   "cell_type": "markdown",
   "metadata": {},
   "source": [
    "## Video Seasons change using Himawari 8 satellite images from NCDC-GIBBS\n",
    "### Contact info: mchaves94@gmail.com\n",
    "#### Version 0 \n",
    "## All images downloaded at 06Z 2019\n"
   ]
  },
  {
   "cell_type": "markdown",
   "metadata": {},
   "source": [
    "### First: Download images"
   ]
  },
  {
   "cell_type": "code",
   "execution_count": 1,
   "metadata": {},
   "outputs": [],
   "source": [
    "#pip install wget\n",
    "# works on: Windows and Linux\n",
    "import wget\n",
    "import numpy as np \n",
    "import datetime\n",
    "import timeit\n",
    "from requests.exceptions import HTTPError\n",
    "import os\n",
    "from os import listdir\n",
    "import glob\n",
    "from PIL import Image\n",
    "import cv2"
   ]
  },
  {
   "cell_type": "code",
   "execution_count": null,
   "metadata": {},
   "outputs": [],
   "source": [
    "start = datetime.datetime.strptime(\"2019-12-20\", \"%Y-%m-%d\")\n",
    "end   = datetime.datetime.strptime(\"2019-12-21\", \"%Y-%m-%d\")\n",
    "date_generated2019 = [start + datetime.timedelta(days=x) for x in range(0, (end-start).days)]"
   ]
  },
  {
   "cell_type": "code",
   "execution_count": null,
   "metadata": {},
   "outputs": [],
   "source": [
    "def descargaHimawari(year):\n",
    "    for i,_ in enumerate(year):\n",
    "        url = \"https://www.ncdc.noaa.gov/gibbs/image/MSG-1/VS/2019-\"\\\n",
    "        +f\"{year[i].month:02d}\"+\"-\"+f\"{year[i].day:02d}\"+\"-06\"\n",
    "        img = wget.download(url)"
   ]
  },
  {
   "cell_type": "code",
   "execution_count": null,
   "metadata": {},
   "outputs": [],
   "source": []
  },
  {
   "cell_type": "code",
   "execution_count": null,
   "metadata": {},
   "outputs": [],
   "source": [
    "# Uncommnent if while loop fails and hard code days by hand.\n",
    "\n",
    "# start = timeit.timeit()\n",
    "# descargaHimawari(date_generated2019)\n",
    "# end = timeit.timeit()\n",
    "# print(end - start)"
   ]
  },
  {
   "cell_type": "code",
   "execution_count": null,
   "metadata": {},
   "outputs": [],
   "source": [
    "intentos = 2\n",
    "intento = 0\n",
    "while intento < intentos:\n",
    "    try: \n",
    "        descargaHimawari(date_generated2019)\n",
    "        break\n",
    "    except HTTPError:\n",
    "        time.sleep(1)\n",
    "        intento = intento +1\n",
    "        if intento == 2:\n",
    "            intento = 0\n",
    "            print(\"intento\",intento,\"FAILED NETWORK\")"
   ]
  },
  {
   "cell_type": "markdown",
   "metadata": {},
   "source": [
    "### Making the video:"
   ]
  },
  {
   "cell_type": "code",
   "execution_count": 4,
   "metadata": {},
   "outputs": [],
   "source": []
  },
  {
   "cell_type": "code",
   "execution_count": 2,
   "metadata": {},
   "outputs": [],
   "source": [
    "fp_in = 'path_to_images/*jpeg'\n",
    "# Frames per second 19, line 11 third argument.\n",
    "img_array = []\n",
    "for filename in sorted(glob.glob(fp_in)):\n",
    "    img = cv2.imread(filename)\n",
    "    height, width, layers = img.shape\n",
    "    size = (width,height)\n",
    "    img_array.append(img)\n",
    " \n",
    " \n",
    "out = cv2.VideoWriter('project.avi',cv2.VideoWriter_fourcc(*'DIVX'), 19, size)\n",
    " \n",
    "for i in range(len(img_array)):\n",
    "    out.write(img_array[i])\n",
    "out.release()"
   ]
  }
 ],
 "metadata": {
  "kernelspec": {
   "display_name": "Python 3",
   "language": "python",
   "name": "python3"
  },
  "language_info": {
   "codemirror_mode": {
    "name": "ipython",
    "version": 3
   },
   "file_extension": ".py",
   "mimetype": "text/x-python",
   "name": "python",
   "nbconvert_exporter": "python",
   "pygments_lexer": "ipython3",
   "version": "3.7.2"
  }
 },
 "nbformat": 4,
 "nbformat_minor": 2
}
